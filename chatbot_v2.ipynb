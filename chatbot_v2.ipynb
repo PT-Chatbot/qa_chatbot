{
  "cells": [
    {
      "cell_type": "code",
      "execution_count": 1,
      "metadata": {
        "id": "ZckNsO4v5PI9"
      },
      "outputs": [],
      "source": [
        "import os\n",
        "import config\n",
        "\n",
        "os.environ[\"OPENAI_API_KEY\"] = config.OPENAI_API_KEY"
      ]
    },
    {
      "cell_type": "code",
      "execution_count": null,
      "metadata": {
        "id": "JrleXFto5PJA"
      },
      "outputs": [],
      "source": [
        "from langchain.vectorstores import Chroma\n",
        "from langchain.embeddings import OpenAIEmbeddings\n",
        "from langchain.text_splitter import RecursiveCharacterTextSplitter\n",
        "from langchain.document_loaders import DirectoryLoader, TextLoader\n",
        "from langchain.chains import RetrievalQA\n",
        "from langchain.memory import ConversationBufferMemory, ReadOnlySharedMemory\n",
        "from langchain.llms import OpenAI\n",
        "from langchain.chat_models import ChatOpenAI\n",
        "from langchain.tools import DuckDuckGoSearchRun, BaseTool\n",
        "from langchain.agents import initialize_agent, Tool, AgentType, AgentExecutor, ZeroShotAgent\n",
        "from langchain import hub, LLMMathChain, OpenAI, LLMChain, PromptTemplate"
      ]
    },
    {
      "cell_type": "code",
      "execution_count": null,
      "metadata": {
        "id": "8dnK8yO25PJA"
      },
      "outputs": [],
      "source": [
        "# Ruta al directorio que contiene la base de datos de vectores\n",
        "persist_directory = 'db'"
      ]
    },
    {
      "cell_type": "code",
      "execution_count": null,
      "metadata": {
        "id": "KUz940U75PJB"
      },
      "outputs": [],
      "source": [
        "# Cargar la base de datos de vectores existente\n",
        "vectordb = Chroma(persist_directory=persist_directory, embedding_function=OpenAIEmbeddings())"
      ]
    },
    {
      "cell_type": "code",
      "execution_count": null,
      "metadata": {
        "id": "dIi6fZHb5PJB"
      },
      "outputs": [],
      "source": [
        "# Configuración del modelo de lenguaje\n",
        "llm = ChatOpenAI(temperature=0, max_tokens=1000, model=\"gpt-3.5-turbo\")"
      ]
    },
    {
      "cell_type": "code",
      "execution_count": null,
      "metadata": {
        "id": "fPVcZ70d5PJB"
      },
      "outputs": [],
      "source": [
        "# Configuración de la memoria\n",
        "memory = ConversationBufferMemory(memory_key=\"chat_history\")\n",
        "readonlymemory = ReadOnlySharedMemory(memory=memory)"
      ]
    },
    {
      "cell_type": "code",
      "execution_count": null,
      "metadata": {
        "id": "FLmCiFFZ5PJC"
      },
      "outputs": [],
      "source": [
        "# Configuración del retriever para QA\n",
        "retriever = vectordb.as_retriever(search_kwargs={\"k\": 2})\n",
        "qa_chain = RetrievalQA.from_chain_type(llm=llm, chain_type=\"stuff\", retriever=retriever, memory=readonlymemory)"
      ]
    },
    {
      "cell_type": "code",
      "execution_count": null,
      "metadata": {
        "id": "0dUkeUi65PJC"
      },
      "outputs": [],
      "source": [
        "tools = [\n",
        "    Tool(name=\"QA System\", func=qa_chain.run, description=\"Útil cuando necesitas responder preguntas sobre El mapa curricular de IDeIO.\"),\n",
        "    Tool(name=\"Backup QA\", func=DuckDuckGoSearchRun().run, description=\"Útil cuando necesitas responder preguntas sobre El mapa curricular de IDeIO, pero solo cuando el Sistema de Preguntas y Respuestas de El mapa curricular de IDeIO no pudo responder la consulta.\"),\n",
        "    Tool(name=\"Calculadora\", func=LLMMathChain.from_llm(llm=llm, verbose=True).run, description=\"Herramienta que suma las materias y suma los creditos de las materias\"),\n",
        "]"
      ]
    },
    {
      "cell_type": "code",
      "execution_count": null,
      "metadata": {
        "id": "ew9R4f095PJD"
      },
      "outputs": [],
      "source": [
        "prefix = \"Inicia una conversación con un humano, respondiendo las siguientes preguntas lo mejor que puedas. Tienes acceso a las siguientes herramientas:\"\n",
        "suffix = \"¡Comienza!\\n{chat_history}\\nPregunta: {input}\\n{agent_scratchpad}\""
      ]
    },
    {
      "cell_type": "code",
      "execution_count": null,
      "metadata": {
        "id": "9bd9YUDT5PJD"
      },
      "outputs": [],
      "source": [
        "prompt = ZeroShotAgent.create_prompt(tools, prefix=prefix, suffix=suffix, input_variables=[\"input\", \"chat_history\", \"agent_scratchpad\"])\n",
        "llm_chain = LLMChain(llm=llm, prompt=prompt)\n",
        "agent = ZeroShotAgent(llm_chain=llm_chain, tools=tools, verbose=True)\n",
        "agent_chain = AgentExecutor.from_agent_and_tools(agent=agent, tools=tools, verbose=True, memory=memory)"
      ]
    },
    {
      "cell_type": "code",
      "execution_count": null,
      "metadata": {
        "id": "M4JeoOC65PJD",
        "outputId": "eacb08bc-dfc8-40a4-e996-e31a4e681071"
      },
      "outputs": [
        {
          "name": "stdout",
          "output_type": "stream",
          "text": [
            "\n",
            "\n",
            "\u001b[1m> Entering new AgentExecutor chain...\u001b[0m\n",
            "\u001b[32;1m\u001b[1;3mThought: Necesito saber cuál es la materia que se debe cursar antes de Aprendizaje Estadístico en el mapa curricular de IDeIO.\n",
            "Action: QA System\n",
            "Action Input: Pre-requisitos de Aprendizaje Estadístico\u001b[0m\n",
            "Observation: \u001b[36;1m\u001b[1;3mLos pre-requisitos de Aprendizaje Estadístico son cargar y aprobar primero \"Estadística Analítica\".\u001b[0m\n",
            "Thought:\u001b[32;1m\u001b[1;3mYa tengo la respuesta final.\n",
            "Final Answer: Debes cargar y aprobar primero la materia \"Estadística Analítica\" antes de Aprendizaje Estadístico.\u001b[0m\n",
            "\n",
            "\u001b[1m> Finished chain.\u001b[0m\n"
          ]
        },
        {
          "data": {
            "text/plain": [
              "'Debes cargar y aprobar primero la materia \"Estadística Analítica\" antes de Aprendizaje Estadístico.'"
            ]
          },
          "execution_count": 36,
          "metadata": {},
          "output_type": "execute_result"
        }
      ],
      "source": [
        "agent_chain.run(input=\"¿Qué materia debo cargar antes de Aprendizaje Estadistico?\")"
      ]
    }
  ],
  "metadata": {
    "colab": {
      "provenance": []
    },
    "kernelspec": {
      "display_name": "Python 3",
      "language": "python",
      "name": "python3"
    },
    "language_info": {
      "codemirror_mode": {
        "name": "ipython",
        "version": 3
      },
      "file_extension": ".py",
      "mimetype": "text/x-python",
      "name": "python",
      "nbconvert_exporter": "python",
      "pygments_lexer": "ipython3",
      "version": "3.9.19"
    }
  },
  "nbformat": 4,
  "nbformat_minor": 0
}
